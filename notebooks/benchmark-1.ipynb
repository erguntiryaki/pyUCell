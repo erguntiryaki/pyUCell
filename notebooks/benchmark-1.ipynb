{
 "cells": [
  {
   "cell_type": "code",
   "execution_count": 1,
   "id": "048f298f-62ac-4b87-a079-fd39d5c33379",
   "metadata": {},
   "outputs": [],
   "source": [
    "import scanpy as sc\n",
    "import pandas as pd\n",
    "import numpy as np\n",
    "import matplotlib.pyplot as plt\n",
    "import seaborn as sns\n",
    "from scipy.sparse import csr_matrix\n",
    "from numba import njit, prange"
   ]
  },
  {
   "cell_type": "code",
   "execution_count": 2,
   "id": "5e43505d-0d93-4e15-b4c1-71a01fe02f4b",
   "metadata": {},
   "outputs": [],
   "source": [
    "adata = sc.datasets.pbmc3k_processed()\n",
    "adata = adata.raw.to_adata()"
   ]
  },
  {
   "cell_type": "markdown",
   "id": "1a963510-81d0-4577-b6f6-7ec673e67cb6",
   "metadata": {},
   "source": [
    "## Implementation 1"
   ]
  },
  {
   "cell_type": "code",
   "execution_count": 3,
   "id": "8e7773ed-e9db-49fc-a981-91114f7259a1",
   "metadata": {},
   "outputs": [],
   "source": [
    "import numpy as np\n",
    "from numba import njit\n",
    "\n",
    "\n",
    "@njit\n",
    "def minimal_ranker(arr, ascending=False):\n",
    "    arr = np.ravel(arr)\n",
    "    sorter = np.argsort(arr, kind='quicksort')\n",
    "\n",
    "    inv = np.empty(sorter.size, dtype=np.intp)\n",
    "    inv[sorter] = np.arange(sorter.size, dtype=np.intp)\n",
    "\n",
    "    arr = arr[sorter]\n",
    "    obs = np.hstack((np.array([True]), arr[1:] != arr[:-1]))\n",
    "\n",
    "    count = np.hstack((np.nonzero(obs)[0], np.array([len(obs)])))\n",
    "    dense = obs.cumsum()[inv]\n",
    "    result = .5 * (count[dense] + count[dense - 1] + 1)\n",
    "\n",
    "    if ascending:\n",
    "        return result\n",
    "    else:\n",
    "        return len(result) + 1 - result\n",
    "\n",
    "\n",
    "@njit\n",
    "def get_ranks_of_zeros(n_genes, n_nonzero):\n",
    "    n_zeros = n_genes - n_nonzero\n",
    "    base_rank = (sum(range(n_genes + 1)) - sum(range(n_nonzero + 1))) / n_zeros\n",
    "    new_arr = np.full((n_genes,), fill_value=base_rank)\n",
    "    return new_arr\n",
    "\n",
    "\n",
    "@njit\n",
    "def insert_ranks_of_nonzero(base_rank_arr, nonzero_arr, csr_indices):\n",
    "    rnk = minimal_ranker(nonzero_arr)\n",
    "    base_rank_arr[csr_indices] = rnk\n",
    "\n",
    "\n",
    "def rank_sparse(sp_arr):\n",
    "    new_arr = get_ranks_of_zeros(sp_arr.shape[1], sp_arr.nnz)\n",
    "    insert_ranks_of_nonzero(new_arr, sp_arr[:, sp_arr.indices].toarray(), sp_arr.indices)\n",
    "    return new_arr\n",
    "\n",
    "\n",
    "def _calculate_u_score(vec, max_rank, n_signature, idx):\n",
    "    rnk = rank_sparse(vec)\n",
    "    rnk[rnk > max_rank] = max_rank + 1\n",
    "    rnk = rnk[idx]\n",
    "    u_val = sum([i - (n_signature * (n_signature + 1)) / 2 for i in rnk])\n",
    "    auc = 1 - (u_val / (n_signature * max_rank))\n",
    "    return auc\n",
    "\n",
    "\n",
    "def score_genes_ucell_1(adata, signature, max_rank=1500, score_name='ucell_score',  copy=False):\n",
    "    adata = adata.copy() if copy else adata\n",
    "    n_signature = len(signature)\n",
    "    idx = [adata.var.index.to_list().index(s) for s in signature]\n",
    "\n",
    "    res = map(lambda vec: _calculate_u_score(vec, max_rank=max_rank, n_signature=n_signature, idx=idx), [vec for vec in adata.X])\n",
    "    adata.obs[score_name] = list(res)\n",
    "    return adata if copy else None\n"
   ]
  },
  {
   "cell_type": "markdown",
   "id": "ba1711d1-1737-4041-8a0f-91319204c219",
   "metadata": {},
   "source": [
    "## Implementation 2"
   ]
  },
  {
   "cell_type": "markdown",
   "id": "d34def04-f461-4e16-abdd-cf6ef3d76db1",
   "metadata": {},
   "source": [
    "**Inlined version of the previous implementation to reduce function call overheads**"
   ]
  },
  {
   "cell_type": "code",
   "execution_count": 4,
   "id": "79abab22-326e-4fd4-af97-6da6166e86ac",
   "metadata": {},
   "outputs": [],
   "source": [
    "import numpy as np\n",
    "from numba import njit, prange\n",
    "\n",
    "\n",
    "@njit(parallel=True)\n",
    "def rank_sparse_matrix(csr_indptr, csr_indices, csr_data, shape):\n",
    "    n_cells = shape[0]\n",
    "    n_genes = shape[1]\n",
    "    ranked_mat = np.empty(shape)\n",
    "    for row in prange(n_cells):\n",
    "        start_idx = csr_indptr[row + 1]\n",
    "        step_size = csr_indptr[row + 1] - csr_indptr[row]\n",
    "        n_zeros = n_genes - step_size\n",
    "        base_rank = (sum(range(n_genes + 1)) - sum(range(step_size + 1))) / n_zeros\n",
    "\n",
    "        arr = csr_data[start_idx: start_idx + step_size]\n",
    "        sorter = np.argsort(arr, kind='quicksort')\n",
    "        inv = np.empty(sorter.size).astype(np.intp)\n",
    "        inv[sorter] = np.arange(sorter.size).astype(np.intp)\n",
    "        arr = arr[sorter]\n",
    "        obs = np.hstack((np.array([True]), arr[1:] != arr[:-1]))\n",
    "        count = np.hstack((np.nonzero(obs)[0], np.array([len(obs)])))\n",
    "        dense = obs.cumsum()[inv]\n",
    "        result = .5 * (count[dense] + count[dense - 1] + 1)\n",
    "        result = len(result) + 1 - result\n",
    "\n",
    "        ranked_vec = np.full((n_genes,), fill_value=base_rank)\n",
    "        ranked_vec[csr_indices[start_idx: start_idx + step_size]] = result\n",
    "\n",
    "        ranked_mat[row, :] = ranked_vec\n",
    "    return ranked_mat\n",
    "\n",
    "\n",
    "@njit(parallel=True)\n",
    "def calculate_u_score(rank_mat_subset, max_rank):\n",
    "    n_cells = rank_mat_subset.shape[0]\n",
    "    n_signature = rank_mat_subset.shape[1]\n",
    "    score_vec = np.empty(shape=(n_cells,))\n",
    "    for row in prange(n_cells):\n",
    "        u_val = sum([i - (n_signature * (n_signature + 1)) / 2 for i in rank_mat_subset[row, :]])\n",
    "        auc = 1 - (u_val / (n_signature * max_rank))\n",
    "        score_vec[row] = auc\n",
    "    return score_vec\n",
    "\n",
    "\n",
    "def score_genes_ucell_2(adata, signature, max_rank=1500, score_name='ucell_score',  copy=False):\n",
    "    adata = adata.copy() if copy else adata\n",
    "    idx = [adata.var.index.to_list().index(s) for s in signature]\n",
    "    rnk = rank_sparse_matrix(adata.X.indptr, adata.X.indices, adata.X.data, adata.shape)\n",
    "    rnk = rnk[:, idx]\n",
    "    rnk[rnk > max_rank] = max_rank + 1\n",
    "    result = calculate_u_score(rnk, max_rank=max_rank)\n",
    "    adata.obs[score_name] = result\n",
    "    return adata if copy else None\n"
   ]
  },
  {
   "cell_type": "markdown",
   "id": "8cac3c2d-bb0b-447e-bcc3-dff78a795cab",
   "metadata": {},
   "source": [
    "## Benchmark"
   ]
  },
  {
   "cell_type": "code",
   "execution_count": 5,
   "id": "8d29378b-3ade-47ca-99b3-13f0215454b4",
   "metadata": {},
   "outputs": [
    {
     "name": "stdout",
     "output_type": "stream",
     "text": [
      "769 ms ± 4.58 ms per loop (mean ± std. dev. of 7 runs, 1 loop each)\n"
     ]
    }
   ],
   "source": [
    "%%timeit\n",
    "score_genes_ucell_1(adata, signature=['MS4A1', 'CD79A', 'CD19'])"
   ]
  },
  {
   "cell_type": "code",
   "execution_count": 6,
   "id": "8c979cc9-64ac-4dd7-8c91-bcfa85e06e00",
   "metadata": {},
   "outputs": [
    {
     "name": "stdout",
     "output_type": "stream",
     "text": [
      "106 ms ± 7.44 ms per loop (mean ± std. dev. of 7 runs, 1 loop each)\n"
     ]
    }
   ],
   "source": [
    "%%timeit\n",
    "score_genes_ucell_2(adata, signature=['MS4A1', 'CD79A', 'CD19'])"
   ]
  },
  {
   "cell_type": "code",
   "execution_count": null,
   "id": "af8fe60c-0630-4335-8258-937929bb813e",
   "metadata": {},
   "outputs": [],
   "source": []
  },
  {
   "cell_type": "code",
   "execution_count": null,
   "id": "c702f468-815d-4781-89e9-f4c4e8e56cf0",
   "metadata": {},
   "outputs": [],
   "source": []
  },
  {
   "cell_type": "code",
   "execution_count": null,
   "id": "60a8c60a-5b01-4c5a-bdb1-4673d308b365",
   "metadata": {},
   "outputs": [],
   "source": []
  },
  {
   "cell_type": "code",
   "execution_count": null,
   "id": "cdd8380d-a51f-480e-84f3-cf005789b803",
   "metadata": {},
   "outputs": [],
   "source": []
  }
 ],
 "metadata": {
  "kernelspec": {
   "display_name": "Python 3 (ipykernel)",
   "language": "python",
   "name": "python3"
  },
  "language_info": {
   "codemirror_mode": {
    "name": "ipython",
    "version": 3
   },
   "file_extension": ".py",
   "mimetype": "text/x-python",
   "name": "python",
   "nbconvert_exporter": "python",
   "pygments_lexer": "ipython3",
   "version": "3.10.9"
  }
 },
 "nbformat": 4,
 "nbformat_minor": 5
}
